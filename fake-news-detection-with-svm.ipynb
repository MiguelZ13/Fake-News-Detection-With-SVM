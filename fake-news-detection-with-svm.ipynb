{
 "cells": [
  {
   "cell_type": "code",
   "execution_count": 1,
   "id": "695cf787",
   "metadata": {
    "_cell_guid": "b1076dfc-b9ad-4769-8c92-a6c4dae69d19",
    "_uuid": "8f2839f25d086af736a60e9eeb907d3b93b6e0e5",
    "execution": {
     "iopub.execute_input": "2025-05-30T05:38:32.892275Z",
     "iopub.status.busy": "2025-05-30T05:38:32.891902Z",
     "iopub.status.idle": "2025-05-30T05:38:37.792537Z",
     "shell.execute_reply": "2025-05-30T05:38:37.791487Z"
    },
    "papermill": {
     "duration": 4.909647,
     "end_time": "2025-05-30T05:38:37.794329",
     "exception": false,
     "start_time": "2025-05-30T05:38:32.884682",
     "status": "completed"
    },
    "tags": []
   },
   "outputs": [
    {
     "name": "stdout",
     "output_type": "stream",
     "text": [
      "/kaggle/input/real-and-fake-news/True.csv\n",
      "/kaggle/input/real-and-fake-news/Fake.csv\n"
     ]
    }
   ],
   "source": [
    "import numpy as np # linear algebra\n",
    "import pandas as pd # data processing, CSV file I/O (e.g. pd.read_csv)\n",
    "import matplotlib.pyplot as plt\n",
    "\n",
    "# standard library\n",
    "import re\n",
    "from collections import Counter\n",
    "\n",
    "# NLP library\n",
    "from nltk.tokenize import word_tokenize\n",
    "from nltk.corpus import stopwords\n",
    "\n",
    "from sklearn.model_selection import train_test_split\n",
    "from sklearn.feature_extraction.text import TfidfVectorizer\n",
    "from sklearn.svm import LinearSVC\n",
    "from sklearn.metrics import accuracy_score, precision_score, recall_score, f1_score, classification_report, confusion_matrix, ConfusionMatrixDisplay\n",
    "\n",
    "import os\n",
    "for dirname, _, filenames in os.walk('/kaggle/input'):\n",
    "    for filename in filenames:\n",
    "        print(os.path.join(dirname, filename))"
   ]
  },
  {
   "cell_type": "code",
   "execution_count": 2,
   "id": "fa4fdac8",
   "metadata": {
    "execution": {
     "iopub.execute_input": "2025-05-30T05:38:37.805787Z",
     "iopub.status.busy": "2025-05-30T05:38:37.805299Z",
     "iopub.status.idle": "2025-05-30T05:38:40.870767Z",
     "shell.execute_reply": "2025-05-30T05:38:40.869147Z"
    },
    "papermill": {
     "duration": 3.073374,
     "end_time": "2025-05-30T05:38:40.872823",
     "exception": false,
     "start_time": "2025-05-30T05:38:37.799449",
     "status": "completed"
    },
    "tags": []
   },
   "outputs": [],
   "source": [
    "fake = pd.read_csv(\"/kaggle/input/real-and-fake-news/Fake.csv\")\n",
    "true = pd.read_csv(\"/kaggle/input/real-and-fake-news/True.csv\")"
   ]
  },
  {
   "cell_type": "markdown",
   "id": "bfbb28af",
   "metadata": {
    "papermill": {
     "duration": 0.004273,
     "end_time": "2025-05-30T05:38:40.881564",
     "exception": false,
     "start_time": "2025-05-30T05:38:40.877291",
     "status": "completed"
    },
    "tags": []
   },
   "source": [
    "# Data Analysis"
   ]
  },
  {
   "cell_type": "code",
   "execution_count": 3,
   "id": "90051e6e",
   "metadata": {
    "execution": {
     "iopub.execute_input": "2025-05-30T05:38:40.891910Z",
     "iopub.status.busy": "2025-05-30T05:38:40.891560Z",
     "iopub.status.idle": "2025-05-30T05:38:40.987023Z",
     "shell.execute_reply": "2025-05-30T05:38:40.986016Z"
    },
    "papermill": {
     "duration": 0.103013,
     "end_time": "2025-05-30T05:38:40.989083",
     "exception": false,
     "start_time": "2025-05-30T05:38:40.886070",
     "status": "completed"
    },
    "tags": []
   },
   "outputs": [
    {
     "data": {
      "text/html": [
       "<div>\n",
       "<style scoped>\n",
       "    .dataframe tbody tr th:only-of-type {\n",
       "        vertical-align: middle;\n",
       "    }\n",
       "\n",
       "    .dataframe tbody tr th {\n",
       "        vertical-align: top;\n",
       "    }\n",
       "\n",
       "    .dataframe thead th {\n",
       "        text-align: right;\n",
       "    }\n",
       "</style>\n",
       "<table border=\"1\" class=\"dataframe\">\n",
       "  <thead>\n",
       "    <tr style=\"text-align: right;\">\n",
       "      <th></th>\n",
       "      <th>title</th>\n",
       "      <th>text</th>\n",
       "      <th>subject</th>\n",
       "      <th>date</th>\n",
       "    </tr>\n",
       "  </thead>\n",
       "  <tbody>\n",
       "    <tr>\n",
       "      <th>count</th>\n",
       "      <td>23481</td>\n",
       "      <td>23481</td>\n",
       "      <td>23481</td>\n",
       "      <td>23481</td>\n",
       "    </tr>\n",
       "    <tr>\n",
       "      <th>unique</th>\n",
       "      <td>17903</td>\n",
       "      <td>17455</td>\n",
       "      <td>6</td>\n",
       "      <td>1681</td>\n",
       "    </tr>\n",
       "    <tr>\n",
       "      <th>top</th>\n",
       "      <td>MEDIA IGNORES Time That Bill Clinton FIRED His...</td>\n",
       "      <td></td>\n",
       "      <td>News</td>\n",
       "      <td>May 10, 2017</td>\n",
       "    </tr>\n",
       "    <tr>\n",
       "      <th>freq</th>\n",
       "      <td>6</td>\n",
       "      <td>626</td>\n",
       "      <td>9050</td>\n",
       "      <td>46</td>\n",
       "    </tr>\n",
       "  </tbody>\n",
       "</table>\n",
       "</div>"
      ],
      "text/plain": [
       "                                                    title   text subject  \\\n",
       "count                                               23481  23481   23481   \n",
       "unique                                              17903  17455       6   \n",
       "top     MEDIA IGNORES Time That Bill Clinton FIRED His...           News   \n",
       "freq                                                    6    626    9050   \n",
       "\n",
       "                date  \n",
       "count          23481  \n",
       "unique          1681  \n",
       "top     May 10, 2017  \n",
       "freq              46  "
      ]
     },
     "execution_count": 3,
     "metadata": {},
     "output_type": "execute_result"
    }
   ],
   "source": [
    "fake.describe()"
   ]
  },
  {
   "cell_type": "code",
   "execution_count": 4,
   "id": "221e5bb0",
   "metadata": {
    "execution": {
     "iopub.execute_input": "2025-05-30T05:38:41.000096Z",
     "iopub.status.busy": "2025-05-30T05:38:40.999714Z",
     "iopub.status.idle": "2025-05-30T05:38:41.087074Z",
     "shell.execute_reply": "2025-05-30T05:38:41.085904Z"
    },
    "papermill": {
     "duration": 0.094927,
     "end_time": "2025-05-30T05:38:41.088748",
     "exception": false,
     "start_time": "2025-05-30T05:38:40.993821",
     "status": "completed"
    },
    "tags": []
   },
   "outputs": [
    {
     "data": {
      "text/html": [
       "<div>\n",
       "<style scoped>\n",
       "    .dataframe tbody tr th:only-of-type {\n",
       "        vertical-align: middle;\n",
       "    }\n",
       "\n",
       "    .dataframe tbody tr th {\n",
       "        vertical-align: top;\n",
       "    }\n",
       "\n",
       "    .dataframe thead th {\n",
       "        text-align: right;\n",
       "    }\n",
       "</style>\n",
       "<table border=\"1\" class=\"dataframe\">\n",
       "  <thead>\n",
       "    <tr style=\"text-align: right;\">\n",
       "      <th></th>\n",
       "      <th>title</th>\n",
       "      <th>text</th>\n",
       "      <th>subject</th>\n",
       "      <th>date</th>\n",
       "    </tr>\n",
       "  </thead>\n",
       "  <tbody>\n",
       "    <tr>\n",
       "      <th>count</th>\n",
       "      <td>21417</td>\n",
       "      <td>21417</td>\n",
       "      <td>21417</td>\n",
       "      <td>21417</td>\n",
       "    </tr>\n",
       "    <tr>\n",
       "      <th>unique</th>\n",
       "      <td>20826</td>\n",
       "      <td>21192</td>\n",
       "      <td>2</td>\n",
       "      <td>716</td>\n",
       "    </tr>\n",
       "    <tr>\n",
       "      <th>top</th>\n",
       "      <td>Factbox: Trump fills top jobs for his administ...</td>\n",
       "      <td>(Reuters) - Highlights for U.S. President Dona...</td>\n",
       "      <td>politicsNews</td>\n",
       "      <td>December 20, 2017</td>\n",
       "    </tr>\n",
       "    <tr>\n",
       "      <th>freq</th>\n",
       "      <td>14</td>\n",
       "      <td>8</td>\n",
       "      <td>11272</td>\n",
       "      <td>182</td>\n",
       "    </tr>\n",
       "  </tbody>\n",
       "</table>\n",
       "</div>"
      ],
      "text/plain": [
       "                                                    title  \\\n",
       "count                                               21417   \n",
       "unique                                              20826   \n",
       "top     Factbox: Trump fills top jobs for his administ...   \n",
       "freq                                                   14   \n",
       "\n",
       "                                                     text       subject  \\\n",
       "count                                               21417         21417   \n",
       "unique                                              21192             2   \n",
       "top     (Reuters) - Highlights for U.S. President Dona...  politicsNews   \n",
       "freq                                                    8         11272   \n",
       "\n",
       "                      date  \n",
       "count                21417  \n",
       "unique                 716  \n",
       "top     December 20, 2017   \n",
       "freq                   182  "
      ]
     },
     "execution_count": 4,
     "metadata": {},
     "output_type": "execute_result"
    }
   ],
   "source": [
    "true.describe()"
   ]
  },
  {
   "cell_type": "code",
   "execution_count": 5,
   "id": "eeb576b6",
   "metadata": {
    "execution": {
     "iopub.execute_input": "2025-05-30T05:38:41.100401Z",
     "iopub.status.busy": "2025-05-30T05:38:41.099576Z",
     "iopub.status.idle": "2025-05-30T05:38:41.128679Z",
     "shell.execute_reply": "2025-05-30T05:38:41.127649Z"
    },
    "papermill": {
     "duration": 0.036693,
     "end_time": "2025-05-30T05:38:41.130211",
     "exception": false,
     "start_time": "2025-05-30T05:38:41.093518",
     "status": "completed"
    },
    "tags": []
   },
   "outputs": [
    {
     "name": "stdout",
     "output_type": "stream",
     "text": [
      "<class 'pandas.core.frame.DataFrame'>\n",
      "RangeIndex: 23481 entries, 0 to 23480\n",
      "Data columns (total 4 columns):\n",
      " #   Column   Non-Null Count  Dtype \n",
      "---  ------   --------------  ----- \n",
      " 0   title    23481 non-null  object\n",
      " 1   text     23481 non-null  object\n",
      " 2   subject  23481 non-null  object\n",
      " 3   date     23481 non-null  object\n",
      "dtypes: object(4)\n",
      "memory usage: 733.9+ KB\n"
     ]
    }
   ],
   "source": [
    "fake.info()"
   ]
  },
  {
   "cell_type": "code",
   "execution_count": 6,
   "id": "693af020",
   "metadata": {
    "execution": {
     "iopub.execute_input": "2025-05-30T05:38:41.141293Z",
     "iopub.status.busy": "2025-05-30T05:38:41.140999Z",
     "iopub.status.idle": "2025-05-30T05:38:41.160128Z",
     "shell.execute_reply": "2025-05-30T05:38:41.158818Z"
    },
    "papermill": {
     "duration": 0.026496,
     "end_time": "2025-05-30T05:38:41.161628",
     "exception": false,
     "start_time": "2025-05-30T05:38:41.135132",
     "status": "completed"
    },
    "tags": []
   },
   "outputs": [
    {
     "name": "stdout",
     "output_type": "stream",
     "text": [
      "<class 'pandas.core.frame.DataFrame'>\n",
      "RangeIndex: 21417 entries, 0 to 21416\n",
      "Data columns (total 4 columns):\n",
      " #   Column   Non-Null Count  Dtype \n",
      "---  ------   --------------  ----- \n",
      " 0   title    21417 non-null  object\n",
      " 1   text     21417 non-null  object\n",
      " 2   subject  21417 non-null  object\n",
      " 3   date     21417 non-null  object\n",
      "dtypes: object(4)\n",
      "memory usage: 669.4+ KB\n"
     ]
    }
   ],
   "source": [
    "true.info()"
   ]
  },
  {
   "cell_type": "code",
   "execution_count": 7,
   "id": "8cea2619",
   "metadata": {
    "execution": {
     "iopub.execute_input": "2025-05-30T05:38:41.172795Z",
     "iopub.status.busy": "2025-05-30T05:38:41.172451Z",
     "iopub.status.idle": "2025-05-30T05:38:41.533167Z",
     "shell.execute_reply": "2025-05-30T05:38:41.532030Z"
    },
    "papermill": {
     "duration": 0.368006,
     "end_time": "2025-05-30T05:38:41.534760",
     "exception": false,
     "start_time": "2025-05-30T05:38:41.166754",
     "status": "completed"
    },
    "tags": []
   },
   "outputs": [
    {
     "data": {
      "image/png": "[encoded data removed]",
      "text/plain": [
       "<Figure size 1000x600 with 1 Axes>"
      ]
     },
     "metadata": {},
     "output_type": "display_data"
    }
   ],
   "source": [
    "fake_counts = fake['subject'].value_counts()\n",
    "true_counts = true['subject'].value_counts();\n",
    "\n",
    "plt.figure(figsize=(10, 6))\n",
    "bars = plt.bar(fake_counts.index, fake_counts.values, color='red')\n",
    "bars += plt.bar(true_counts.index, true_counts.values, color='blue')\n",
    "\n",
    "for bar in bars:\n",
    "    height = bar.get_height()\n",
    "    plt.text(bar.get_x() + bar.get_width() / 2, height, str(height),\n",
    "             ha='center', va='bottom', fontsize=10)\n",
    "\n",
    "plt.title('Subject Distribution in Dataset')\n",
    "plt.xlabel('Subject')\n",
    "plt.ylabel('Count')\n",
    "plt.xticks(rotation=45, ha='right')\n",
    "plt.tight_layout()\n",
    "plt.show()"
   ]
  },
  {
   "cell_type": "code",
   "execution_count": 8,
   "id": "9b70569d",
   "metadata": {
    "execution": {
     "iopub.execute_input": "2025-05-30T05:38:41.547342Z",
     "iopub.status.busy": "2025-05-30T05:38:41.547003Z",
     "iopub.status.idle": "2025-05-30T05:38:41.552789Z",
     "shell.execute_reply": "2025-05-30T05:38:41.551746Z"
    },
    "papermill": {
     "duration": 0.0141,
     "end_time": "2025-05-30T05:38:41.554505",
     "exception": false,
     "start_time": "2025-05-30T05:38:41.540405",
     "status": "completed"
    },
    "tags": []
   },
   "outputs": [],
   "source": [
    "def count_words(titles):\n",
    "    words = word_tokenize(titles.lower())\n",
    "    words = [re.sub(r'[^a-z]', '', word) for word in words] # removes non-alphabetical characters\n",
    "    words = [word for word in words if word and word not in stopwords.words('english')] # removes stopwords\n",
    "\n",
    "    return Counter(words)"
   ]
  },
  {
   "cell_type": "code",
   "execution_count": 9,
   "id": "be98ce4d",
   "metadata": {
    "execution": {
     "iopub.execute_input": "2025-05-30T05:38:41.568041Z",
     "iopub.status.busy": "2025-05-30T05:38:41.566947Z",
     "iopub.status.idle": "2025-05-30T05:39:37.999330Z",
     "shell.execute_reply": "2025-05-30T05:39:37.998268Z"
    },
    "papermill": {
     "duration": 56.445657,
     "end_time": "2025-05-30T05:39:38.005941",
     "exception": false,
     "start_time": "2025-05-30T05:38:41.560284",
     "status": "completed"
    },
    "tags": []
   },
   "outputs": [
    {
     "name": "stdout",
     "output_type": "stream",
     "text": [
      "15 most common words in fake articles: \n",
      "trump: 8713\n",
      "video: 8377\n",
      "obama: 2487\n",
      "hillary: 2199\n",
      "watch: 1905\n",
      "clinton: 1099\n",
      "president: 1091\n",
      "us: 1045\n",
      "new: 895\n",
      "breaking: 880\n",
      "news: 862\n",
      "black: 860\n",
      "white: 846\n",
      "donald: 843\n",
      "gop: 794\n",
      "15 most common words in true articles: \n",
      "trump: 5411\n",
      "us: 4033\n",
      "says: 2981\n",
      "house: 1443\n",
      "north: 925\n",
      "russia: 914\n",
      "korea: 881\n",
      "new: 875\n",
      "white: 815\n",
      "china: 767\n",
      "senate: 759\n",
      "court: 723\n",
      "bill: 686\n",
      "clinton: 646\n",
      "state: 645\n"
     ]
    }
   ],
   "source": [
    "fake_titles = \" \".join(fake['title'].tolist())\n",
    "true_titles = \" \".join(true['title'].tolist())\n",
    "\n",
    "fake_count = count_words(fake_titles)\n",
    "true_count = count_words(true_titles)\n",
    "fake_common = fake_count.most_common(15)\n",
    "true_common = true_count.most_common(15)\n",
    "print(\"15 most common words in fake articles: \")\n",
    "for word, count in fake_common:\n",
    "    print(f\"{word}: {count}\")\n",
    "print(\"15 most common words in true articles: \")\n",
    "for word, count in true_common:\n",
    "    print(f\"{word}: {count}\")"
   ]
  },
  {
   "cell_type": "markdown",
   "id": "d7d9a6c5",
   "metadata": {
    "papermill": {
     "duration": 0.005187,
     "end_time": "2025-05-30T05:39:38.016612",
     "exception": false,
     "start_time": "2025-05-30T05:39:38.011425",
     "status": "completed"
    },
    "tags": []
   },
   "source": [
    "# Data Preprocessing"
   ]
  },
  {
   "cell_type": "code",
   "execution_count": 10,
   "id": "70586312",
   "metadata": {
    "execution": {
     "iopub.execute_input": "2025-05-30T05:39:38.029501Z",
     "iopub.status.busy": "2025-05-30T05:39:38.029155Z",
     "iopub.status.idle": "2025-05-30T05:39:38.048170Z",
     "shell.execute_reply": "2025-05-30T05:39:38.046985Z"
    },
    "papermill": {
     "duration": 0.027749,
     "end_time": "2025-05-30T05:39:38.049818",
     "exception": false,
     "start_time": "2025-05-30T05:39:38.022069",
     "status": "completed"
    },
    "tags": []
   },
   "outputs": [],
   "source": [
    "true['label'] = 0\n",
    "fake['label'] = 1\n",
    "\n",
    "data = pd.concat([true[['label', 'title', 'text']], fake[['label', 'title', 'text']]])"
   ]
  },
  {
   "cell_type": "code",
   "execution_count": 11,
   "id": "c5e13e0b",
   "metadata": {
    "execution": {
     "iopub.execute_input": "2025-05-30T05:39:38.062053Z",
     "iopub.status.busy": "2025-05-30T05:39:38.061745Z",
     "iopub.status.idle": "2025-05-30T05:39:38.286713Z",
     "shell.execute_reply": "2025-05-30T05:39:38.285800Z"
    },
    "papermill": {
     "duration": 0.233101,
     "end_time": "2025-05-30T05:39:38.288422",
     "exception": false,
     "start_time": "2025-05-30T05:39:38.055321",
     "status": "completed"
    },
    "tags": []
   },
   "outputs": [
    {
     "data": {
      "text/html": [
       "<div>\n",
       "<style scoped>\n",
       "    .dataframe tbody tr th:only-of-type {\n",
       "        vertical-align: middle;\n",
       "    }\n",
       "\n",
       "    .dataframe tbody tr th {\n",
       "        vertical-align: top;\n",
       "    }\n",
       "\n",
       "    .dataframe thead th {\n",
       "        text-align: right;\n",
       "    }\n",
       "</style>\n",
       "<table border=\"1\" class=\"dataframe\">\n",
       "  <thead>\n",
       "    <tr style=\"text-align: right;\">\n",
       "      <th></th>\n",
       "      <th>label</th>\n",
       "      <th>article</th>\n",
       "    </tr>\n",
       "  </thead>\n",
       "  <tbody>\n",
       "    <tr>\n",
       "      <th>0</th>\n",
       "      <td>0</td>\n",
       "      <td>Ukraine's Poroshenko suggests IMF-backed anti-...</td>\n",
       "    </tr>\n",
       "    <tr>\n",
       "      <th>1</th>\n",
       "      <td>0</td>\n",
       "      <td>Republican Senator Hatch rejects bipartisan he...</td>\n",
       "    </tr>\n",
       "    <tr>\n",
       "      <th>2</th>\n",
       "      <td>1</td>\n",
       "      <td>The Republican Jewish Coalition Loves Trump S...</td>\n",
       "    </tr>\n",
       "    <tr>\n",
       "      <th>3</th>\n",
       "      <td>0</td>\n",
       "      <td>Cruz's Iowa victory could show Big Corn's wani...</td>\n",
       "    </tr>\n",
       "    <tr>\n",
       "      <th>4</th>\n",
       "      <td>0</td>\n",
       "      <td>Britain's \"Madame Brexit\" tells Poland: Your c...</td>\n",
       "    </tr>\n",
       "    <tr>\n",
       "      <th>...</th>\n",
       "      <td>...</td>\n",
       "      <td>...</td>\n",
       "    </tr>\n",
       "    <tr>\n",
       "      <th>44893</th>\n",
       "      <td>1</td>\n",
       "      <td>BREAKING: Lawsuit Shows Trump Wanted To Fire,...</td>\n",
       "    </tr>\n",
       "    <tr>\n",
       "      <th>44894</th>\n",
       "      <td>0</td>\n",
       "      <td>Hollande and Trump agreed to 'clarify' key iss...</td>\n",
       "    </tr>\n",
       "    <tr>\n",
       "      <th>44895</th>\n",
       "      <td>1</td>\n",
       "      <td>Stephen King Makes Trump His Newest Horror St...</td>\n",
       "    </tr>\n",
       "    <tr>\n",
       "      <th>44896</th>\n",
       "      <td>1</td>\n",
       "      <td>LOL! $45 MILLION DOLLAR WHOOPI Complains Conse...</td>\n",
       "    </tr>\n",
       "    <tr>\n",
       "      <th>44897</th>\n",
       "      <td>1</td>\n",
       "      <td>Donald Trump Storms Glenn Beck’s Ted Cruz Ral...</td>\n",
       "    </tr>\n",
       "  </tbody>\n",
       "</table>\n",
       "<p>44898 rows × 2 columns</p>\n",
       "</div>"
      ],
      "text/plain": [
       "       label                                            article\n",
       "0          0  Ukraine's Poroshenko suggests IMF-backed anti-...\n",
       "1          0  Republican Senator Hatch rejects bipartisan he...\n",
       "2          1   The Republican Jewish Coalition Loves Trump S...\n",
       "3          0  Cruz's Iowa victory could show Big Corn's wani...\n",
       "4          0  Britain's \"Madame Brexit\" tells Poland: Your c...\n",
       "...      ...                                                ...\n",
       "44893      1   BREAKING: Lawsuit Shows Trump Wanted To Fire,...\n",
       "44894      0  Hollande and Trump agreed to 'clarify' key iss...\n",
       "44895      1   Stephen King Makes Trump His Newest Horror St...\n",
       "44896      1  LOL! $45 MILLION DOLLAR WHOOPI Complains Conse...\n",
       "44897      1   Donald Trump Storms Glenn Beck’s Ted Cruz Ral...\n",
       "\n",
       "[44898 rows x 2 columns]"
      ]
     },
     "execution_count": 11,
     "metadata": {},
     "output_type": "execute_result"
    }
   ],
   "source": [
    "data['article'] = data['title'] + \" \" + data['text']\n",
    "data = data.drop(['title', 'text'], axis=1)\n",
    "data = data.sample(frac=1, random_state=36).reset_index(drop=True)\n",
    "data"
   ]
  },
  {
   "cell_type": "code",
   "execution_count": 12,
   "id": "eaf14dcd",
   "metadata": {
    "execution": {
     "iopub.execute_input": "2025-05-30T05:39:38.301952Z",
     "iopub.status.busy": "2025-05-30T05:39:38.301582Z",
     "iopub.status.idle": "2025-05-30T05:39:38.307637Z",
     "shell.execute_reply": "2025-05-30T05:39:38.306513Z"
    },
    "papermill": {
     "duration": 0.014876,
     "end_time": "2025-05-30T05:39:38.309319",
     "exception": false,
     "start_time": "2025-05-30T05:39:38.294443",
     "status": "completed"
    },
    "tags": []
   },
   "outputs": [],
   "source": [
    "def clean(text):\n",
    "    text = text.lower()\n",
    "    text = re.sub(r'[^\\w\\s]', '', text) # removes punctuation\n",
    "    text = re.sub(r'\\s+', ' ', text) # sets all spaces to be single-spaced\n",
    "\n",
    "    # removes stopwords\n",
    "    stop_words = set(stopwords.words('english'))\n",
    "    tokens = word_tokenize(text)\n",
    "    text = ' '.join([word for word in tokens if word not in stop_words])\n",
    "    \n",
    "    return text"
   ]
  },
  {
   "cell_type": "code",
   "execution_count": 13,
   "id": "f626207f",
   "metadata": {
    "execution": {
     "iopub.execute_input": "2025-05-30T05:39:38.322264Z",
     "iopub.status.busy": "2025-05-30T05:39:38.321942Z",
     "iopub.status.idle": "2025-05-30T05:40:55.612945Z",
     "shell.execute_reply": "2025-05-30T05:40:55.611809Z"
    },
    "papermill": {
     "duration": 77.304843,
     "end_time": "2025-05-30T05:40:55.620003",
     "exception": false,
     "start_time": "2025-05-30T05:39:38.315160",
     "status": "completed"
    },
    "tags": []
   },
   "outputs": [
    {
     "data": {
      "text/html": [
       "<div>\n",
       "<style scoped>\n",
       "    .dataframe tbody tr th:only-of-type {\n",
       "        vertical-align: middle;\n",
       "    }\n",
       "\n",
       "    .dataframe tbody tr th {\n",
       "        vertical-align: top;\n",
       "    }\n",
       "\n",
       "    .dataframe thead th {\n",
       "        text-align: right;\n",
       "    }\n",
       "</style>\n",
       "<table border=\"1\" class=\"dataframe\">\n",
       "  <thead>\n",
       "    <tr style=\"text-align: right;\">\n",
       "      <th></th>\n",
       "      <th>label</th>\n",
       "      <th>article</th>\n",
       "    </tr>\n",
       "  </thead>\n",
       "  <tbody>\n",
       "    <tr>\n",
       "      <th>0</th>\n",
       "      <td>0</td>\n",
       "      <td>ukraines poroshenko suggests imfbacked antigra...</td>\n",
       "    </tr>\n",
       "    <tr>\n",
       "      <th>1</th>\n",
       "      <td>0</td>\n",
       "      <td>republican senator hatch rejects bipartisan he...</td>\n",
       "    </tr>\n",
       "    <tr>\n",
       "      <th>2</th>\n",
       "      <td>1</td>\n",
       "      <td>republican jewish coalition loves trump much f...</td>\n",
       "    </tr>\n",
       "    <tr>\n",
       "      <th>3</th>\n",
       "      <td>0</td>\n",
       "      <td>cruzs iowa victory could show big corns waning...</td>\n",
       "    </tr>\n",
       "    <tr>\n",
       "      <th>4</th>\n",
       "      <td>0</td>\n",
       "      <td>britains madame brexit tells poland constituti...</td>\n",
       "    </tr>\n",
       "    <tr>\n",
       "      <th>...</th>\n",
       "      <td>...</td>\n",
       "      <td>...</td>\n",
       "    </tr>\n",
       "    <tr>\n",
       "      <th>44893</th>\n",
       "      <td>1</td>\n",
       "      <td>breaking lawsuit shows trump wanted fire repla...</td>\n",
       "    </tr>\n",
       "    <tr>\n",
       "      <th>44894</th>\n",
       "      <td>0</td>\n",
       "      <td>hollande trump agreed clarify key issues inclu...</td>\n",
       "    </tr>\n",
       "    <tr>\n",
       "      <th>44895</th>\n",
       "      <td>1</td>\n",
       "      <td>stephen king makes trump newest horror story f...</td>\n",
       "    </tr>\n",
       "    <tr>\n",
       "      <th>44896</th>\n",
       "      <td>1</td>\n",
       "      <td>lol 45 million dollar whoopi complains conserv...</td>\n",
       "    </tr>\n",
       "    <tr>\n",
       "      <th>44897</th>\n",
       "      <td>1</td>\n",
       "      <td>donald trump storms glenn becks ted cruz rally...</td>\n",
       "    </tr>\n",
       "  </tbody>\n",
       "</table>\n",
       "<p>44898 rows × 2 columns</p>\n",
       "</div>"
      ],
      "text/plain": [
       "       label                                            article\n",
       "0          0  ukraines poroshenko suggests imfbacked antigra...\n",
       "1          0  republican senator hatch rejects bipartisan he...\n",
       "2          1  republican jewish coalition loves trump much f...\n",
       "3          0  cruzs iowa victory could show big corns waning...\n",
       "4          0  britains madame brexit tells poland constituti...\n",
       "...      ...                                                ...\n",
       "44893      1  breaking lawsuit shows trump wanted fire repla...\n",
       "44894      0  hollande trump agreed clarify key issues inclu...\n",
       "44895      1  stephen king makes trump newest horror story f...\n",
       "44896      1  lol 45 million dollar whoopi complains conserv...\n",
       "44897      1  donald trump storms glenn becks ted cruz rally...\n",
       "\n",
       "[44898 rows x 2 columns]"
      ]
     },
     "execution_count": 13,
     "metadata": {},
     "output_type": "execute_result"
    }
   ],
   "source": [
    "data['article'] = data['article'].apply(clean)\n",
    "data"
   ]
  },
  {
   "cell_type": "markdown",
   "id": "79a42d07",
   "metadata": {
    "papermill": {
     "duration": 0.00636,
     "end_time": "2025-05-30T05:40:55.632268",
     "exception": false,
     "start_time": "2025-05-30T05:40:55.625908",
     "status": "completed"
    },
    "tags": []
   },
   "source": [
    "# Building Model"
   ]
  },
  {
   "cell_type": "code",
   "execution_count": 14,
   "id": "37314e40",
   "metadata": {
    "execution": {
     "iopub.execute_input": "2025-05-30T05:40:55.645444Z",
     "iopub.status.busy": "2025-05-30T05:40:55.645144Z",
     "iopub.status.idle": "2025-05-30T05:41:05.873205Z",
     "shell.execute_reply": "2025-05-30T05:41:05.871994Z"
    },
    "papermill": {
     "duration": 10.236846,
     "end_time": "2025-05-30T05:41:05.875097",
     "exception": false,
     "start_time": "2025-05-30T05:40:55.638251",
     "status": "completed"
    },
    "tags": []
   },
   "outputs": [
    {
     "name": "stdout",
     "output_type": "stream",
     "text": [
      "(44898, 7000)\n"
     ]
    }
   ],
   "source": [
    "vectorizer = TfidfVectorizer(max_features=7000)\n",
    "\n",
    "X = vectorizer.fit_transform(data['article'])\n",
    "y = data['label']\n",
    "print(X.shape)"
   ]
  },
  {
   "cell_type": "code",
   "execution_count": 15,
   "id": "b2176919",
   "metadata": {
    "execution": {
     "iopub.execute_input": "2025-05-30T05:41:05.888627Z",
     "iopub.status.busy": "2025-05-30T05:41:05.888307Z",
     "iopub.status.idle": "2025-05-30T05:41:05.918753Z",
     "shell.execute_reply": "2025-05-30T05:41:05.917493Z"
    },
    "papermill": {
     "duration": 0.039233,
     "end_time": "2025-05-30T05:41:05.920449",
     "exception": false,
     "start_time": "2025-05-30T05:41:05.881216",
     "status": "completed"
    },
    "tags": []
   },
   "outputs": [],
   "source": [
    "X_train, X_test, y_train, y_test = train_test_split(X, y, test_size=0.2, random_state=36)"
   ]
  },
  {
   "cell_type": "code",
   "execution_count": 16,
   "id": "c4113f8b",
   "metadata": {
    "execution": {
     "iopub.execute_input": "2025-05-30T05:41:05.935141Z",
     "iopub.status.busy": "2025-05-30T05:41:05.934840Z",
     "iopub.status.idle": "2025-05-30T05:41:06.469209Z",
     "shell.execute_reply": "2025-05-30T05:41:06.468388Z"
    },
    "papermill": {
     "duration": 0.543699,
     "end_time": "2025-05-30T05:41:06.471042",
     "exception": false,
     "start_time": "2025-05-30T05:41:05.927343",
     "status": "completed"
    },
    "tags": []
   },
   "outputs": [
    {
     "data": {
      "text/html": [
       "<style>#sk-container-id-1 {color: black;background-color: white;}#sk-container-id-1 pre{padding: 0;}#sk-container-id-1 div.sk-toggleable {background-color: white;}#sk-container-id-1 label.sk-toggleable__label {cursor: pointer;display: block;width: 100%;margin-bottom: 0;padding: 0.3em;box-sizing: border-box;text-align: center;}#sk-container-id-1 label.sk-toggleable__label-arrow:before {content: \"▸\";float: left;margin-right: 0.25em;color: #696969;}#sk-container-id-1 label.sk-toggleable__label-arrow:hover:before {color: black;}#sk-container-id-1 div.sk-estimator:hover label.sk-toggleable__label-arrow:before {color: black;}#sk-container-id-1 div.sk-toggleable__content {max-height: 0;max-width: 0;overflow: hidden;text-align: left;background-color: #f0f8ff;}#sk-container-id-1 div.sk-toggleable__content pre {margin: 0.2em;color: black;border-radius: 0.25em;background-color: #f0f8ff;}#sk-container-id-1 input.sk-toggleable__control:checked~div.sk-toggleable__content {max-height: 200px;max-width: 100%;overflow: auto;}#sk-container-id-1 input.sk-toggleable__control:checked~label.sk-toggleable__label-arrow:before {content: \"▾\";}#sk-container-id-1 div.sk-estimator input.sk-toggleable__control:checked~label.sk-toggleable__label {background-color: #d4ebff;}#sk-container-id-1 div.sk-label input.sk-toggleable__control:checked~label.sk-toggleable__label {background-color: #d4ebff;}#sk-container-id-1 input.sk-hidden--visually {border: 0;clip: rect(1px 1px 1px 1px);clip: rect(1px, 1px, 1px, 1px);height: 1px;margin: -1px;overflow: hidden;padding: 0;position: absolute;width: 1px;}#sk-container-id-1 div.sk-estimator {font-family: monospace;background-color: #f0f8ff;border: 1px dotted black;border-radius: 0.25em;box-sizing: border-box;margin-bottom: 0.5em;}#sk-container-id-1 div.sk-estimator:hover {background-color: #d4ebff;}#sk-container-id-1 div.sk-parallel-item::after {content: \"\";width: 100%;border-bottom: 1px solid gray;flex-grow: 1;}#sk-container-id-1 div.sk-label:hover label.sk-toggleable__label {background-color: #d4ebff;}#sk-container-id-1 div.sk-serial::before {content: \"\";position: absolute;border-left: 1px solid gray;box-sizing: border-box;top: 0;bottom: 0;left: 50%;z-index: 0;}#sk-container-id-1 div.sk-serial {display: flex;flex-direction: column;align-items: center;background-color: white;padding-right: 0.2em;padding-left: 0.2em;position: relative;}#sk-container-id-1 div.sk-item {position: relative;z-index: 1;}#sk-container-id-1 div.sk-parallel {display: flex;align-items: stretch;justify-content: center;background-color: white;position: relative;}#sk-container-id-1 div.sk-item::before, #sk-container-id-1 div.sk-parallel-item::before {content: \"\";position: absolute;border-left: 1px solid gray;box-sizing: border-box;top: 0;bottom: 0;left: 50%;z-index: -1;}#sk-container-id-1 div.sk-parallel-item {display: flex;flex-direction: column;z-index: 1;position: relative;background-color: white;}#sk-container-id-1 div.sk-parallel-item:first-child::after {align-self: flex-end;width: 50%;}#sk-container-id-1 div.sk-parallel-item:last-child::after {align-self: flex-start;width: 50%;}#sk-container-id-1 div.sk-parallel-item:only-child::after {width: 0;}#sk-container-id-1 div.sk-dashed-wrapped {border: 1px dashed gray;margin: 0 0.4em 0.5em 0.4em;box-sizing: border-box;padding-bottom: 0.4em;background-color: white;}#sk-container-id-1 div.sk-label label {font-family: monospace;font-weight: bold;display: inline-block;line-height: 1.2em;}#sk-container-id-1 div.sk-label-container {text-align: center;}#sk-container-id-1 div.sk-container {/* jupyter's `normalize.less` sets `[hidden] { display: none; }` but bootstrap.min.css set `[hidden] { display: none !important; }` so we also need the `!important` here to be able to override the default hidden behavior on the sphinx rendered scikit-learn.org. See: https://github.com/scikit-learn/scikit-learn/issues/21755 */display: inline-block !important;position: relative;}#sk-container-id-1 div.sk-text-repr-fallback {display: none;}</style><div id=\"sk-container-id-1\" class=\"sk-top-container\"><div class=\"sk-text-repr-fallback\"><pre>LinearSVC(random_state=36)</pre><b>In a Jupyter environment, please rerun this cell to show the HTML representation or trust the notebook. <br />On GitHub, the HTML representation is unable to render, please try loading this page with nbviewer.org.</b></div><div class=\"sk-container\" hidden><div class=\"sk-item\"><div class=\"sk-estimator sk-toggleable\"><input class=\"sk-toggleable__control sk-hidden--visually\" id=\"sk-estimator-id-1\" type=\"checkbox\" checked><label for=\"sk-estimator-id-1\" class=\"sk-toggleable__label sk-toggleable__label-arrow\">LinearSVC</label><div class=\"sk-toggleable__content\"><pre>LinearSVC(random_state=36)</pre></div></div></div></div></div>"
      ],
      "text/plain": [
       "LinearSVC(random_state=36)"
      ]
     },
     "execution_count": 16,
     "metadata": {},
     "output_type": "execute_result"
    }
   ],
   "source": [
    "model = LinearSVC(random_state=36)\n",
    "\n",
    "model.fit(X_train, y_train)"
   ]
  },
  {
   "cell_type": "code",
   "execution_count": 17,
   "id": "fc62d06c",
   "metadata": {
    "execution": {
     "iopub.execute_input": "2025-05-30T05:41:06.485343Z",
     "iopub.status.busy": "2025-05-30T05:41:06.485029Z",
     "iopub.status.idle": "2025-05-30T05:41:06.492705Z",
     "shell.execute_reply": "2025-05-30T05:41:06.491811Z"
    },
    "papermill": {
     "duration": 0.016621,
     "end_time": "2025-05-30T05:41:06.494439",
     "exception": false,
     "start_time": "2025-05-30T05:41:06.477818",
     "status": "completed"
    },
    "tags": []
   },
   "outputs": [],
   "source": [
    "y_pred = model.predict(X_test)"
   ]
  },
  {
   "cell_type": "markdown",
   "id": "1f1dcf3e",
   "metadata": {
    "papermill": {
     "duration": 0.005941,
     "end_time": "2025-05-30T05:41:06.506932",
     "exception": false,
     "start_time": "2025-05-30T05:41:06.500991",
     "status": "completed"
    },
    "tags": []
   },
   "source": [
    "# Evaluation"
   ]
  },
  {
   "cell_type": "code",
   "execution_count": 18,
   "id": "e5ac3ee9",
   "metadata": {
    "execution": {
     "iopub.execute_input": "2025-05-30T05:41:06.520389Z",
     "iopub.status.busy": "2025-05-30T05:41:06.520066Z",
     "iopub.status.idle": "2025-05-30T05:41:06.543537Z",
     "shell.execute_reply": "2025-05-30T05:41:06.542248Z"
    },
    "papermill": {
     "duration": 0.0325,
     "end_time": "2025-05-30T05:41:06.545478",
     "exception": false,
     "start_time": "2025-05-30T05:41:06.512978",
     "status": "completed"
    },
    "tags": []
   },
   "outputs": [
    {
     "name": "stdout",
     "output_type": "stream",
     "text": [
      "Evaluation Metrics:\n",
      "Accuracy: 0.9965478841870824\n",
      "Precision: 0.9970117395944503\n",
      "Recall: 0.9963737201365188\n",
      "F1 Score: 0.9966926277605889\n"
     ]
    }
   ],
   "source": [
    "print(\"Evaluation Metrics:\")\n",
    "print(f\"Accuracy: {accuracy_score(y_test, y_pred)}\")\n",
    "print(f\"Precision: {precision_score(y_test, y_pred)}\")\n",
    "print(f\"Recall: {recall_score(y_test, y_pred)}\")\n",
    "print(f\"F1 Score: {f1_score(y_test, y_pred)}\")"
   ]
  },
  {
   "cell_type": "code",
   "execution_count": 19,
   "id": "65201bd8",
   "metadata": {
    "execution": {
     "iopub.execute_input": "2025-05-30T05:41:06.560298Z",
     "iopub.status.busy": "2025-05-30T05:41:06.559976Z",
     "iopub.status.idle": "2025-05-30T05:41:06.585868Z",
     "shell.execute_reply": "2025-05-30T05:41:06.584709Z"
    },
    "papermill": {
     "duration": 0.035168,
     "end_time": "2025-05-30T05:41:06.587473",
     "exception": false,
     "start_time": "2025-05-30T05:41:06.552305",
     "status": "completed"
    },
    "tags": []
   },
   "outputs": [
    {
     "name": "stdout",
     "output_type": "stream",
     "text": [
      "              precision    recall  f1-score   support\n",
      "\n",
      "           0       1.00      1.00      1.00      4292\n",
      "           1       1.00      1.00      1.00      4688\n",
      "\n",
      "    accuracy                           1.00      8980\n",
      "   macro avg       1.00      1.00      1.00      8980\n",
      "weighted avg       1.00      1.00      1.00      8980\n",
      "\n"
     ]
    }
   ],
   "source": [
    "print(classification_report(y_test, y_pred))"
   ]
  },
  {
   "cell_type": "code",
   "execution_count": 20,
   "id": "04e0aa11",
   "metadata": {
    "execution": {
     "iopub.execute_input": "2025-05-30T05:41:06.601918Z",
     "iopub.status.busy": "2025-05-30T05:41:06.601222Z",
     "iopub.status.idle": "2025-05-30T05:41:06.801749Z",
     "shell.execute_reply": "2025-05-30T05:41:06.800806Z"
    },
    "papermill": {
     "duration": 0.209301,
     "end_time": "2025-05-30T05:41:06.803336",
     "exception": false,
     "start_time": "2025-05-30T05:41:06.594035",
     "status": "completed"
    },
    "tags": []
   },
   "outputs": [
    {
     "data": {
      "image/png": "[encoded data removed]",
      "text/plain": [
       "<Figure size 640x480 with 2 Axes>"
      ]
     },
     "metadata": {},
     "output_type": "display_data"
    }
   ],
   "source": [
    "cm = confusion_matrix(y_test, y_pred)\n",
    "\n",
    "disp = ConfusionMatrixDisplay(cm, display_labels=[\"True\", \"Fake\"])\n",
    "disp.plot(cmap=\"Blues\")\n",
    "plt.title(\"True vs. Fake News Confusion Matrix\")\n",
    "plt.show()"
   ]
  }
 ],
 "metadata": {
  "kaggle": {
   "accelerator": "none",
   "dataSources": [
    {
     "datasetId": 7278464,
     "sourceId": 11604520,
     "sourceType": "datasetVersion"
    }
   ],
   "dockerImageVersionId": 31040,
   "isGpuEnabled": false,
   "isInternetEnabled": false,
   "language": "python",
   "sourceType": "notebook"
  },
  "kernelspec": {
   "display_name": "Python 3",
   "language": "python",
   "name": "python3"
  },
  "language_info": {
   "codemirror_mode": {
    "name": "ipython",
    "version": 3
   },
   "file_extension": ".py",
   "mimetype": "text/x-python",
   "name": "python",
   "nbconvert_exporter": "python",
   "pygments_lexer": "ipython3",
   "version": "3.11.11"
  },
  "papermill": {
   "default_parameters": {},
   "duration": 159.9865,
   "end_time": "2025-05-30T05:41:07.633293",
   "environment_variables": {},
   "exception": null,
   "input_path": "__notebook__.ipynb",
   "output_path": "__notebook__.ipynb",
   "parameters": {},
   "start_time": "2025-05-30T05:38:27.646793",
   "version": "2.6.0"
  }
 },
 "nbformat": 4,
 "nbformat_minor": 5
}
